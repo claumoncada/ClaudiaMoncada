{
 "cells": [
  {
   "cell_type": "markdown",
   "metadata": {},
   "source": [
    "# Understanding Hierarchical Clustering\n",
    "Date: September, 2022."
   ]
  },
  {
   "cell_type": "code",
   "execution_count": null,
   "metadata": {
    "id": "zl19q-lUy2UY"
   },
   "outputs": [],
   "source": [
    "import numpy as np\n",
    "from scipy import ndimage\n",
    "from scipy.cluster import hierarchy\n",
    "from scipy.spatial import distance_matrix\n",
    "from matplotlib import pyplot as plt\n",
    "from sklearn.cluster import AgglomerativeClustering"
   ]
  },
  {
   "cell_type": "markdown",
   "metadata": {
    "id": "lKL0J0dazEhI"
   },
   "source": [
    "GENERATING RANDOM DATASET"
   ]
  },
  {
   "cell_type": "code",
   "execution_count": null,
   "metadata": {
    "colab": {
     "base_uri": "https://localhost:8080/"
    },
    "id": "myTnb0dOzDh3",
    "outputId": "987d9dde-2ed7-4f53-a2b7-d1ade6fcc5af"
   },
   "outputs": [
    {
     "name": "stdout",
     "output_type": "stream",
     "text": [
      "[[ -3.46789807  -8.36915142]\n",
      " [ -9.92338408  -3.13339215]\n",
      " [ -8.98010923  -8.23296665]\n",
      " [  8.84286856   1.84089968]\n",
      " [ -3.21463048  -7.98694609]\n",
      " [ -4.95806994 -10.56427748]\n",
      " [ -9.22833154  -3.2607763 ]\n",
      " [ -8.2448388   -3.5784074 ]\n",
      " [ 10.2895046    1.70835211]\n",
      " [ -8.60324105  -4.47463739]\n",
      " [ -2.13531667  -8.73471347]\n",
      " [ -7.5390171   -8.17003298]\n",
      " [ -2.45298429 -11.40147824]\n",
      " [  8.29597001   1.42180471]\n",
      " [ -7.99736883  -2.37771466]\n",
      " [  8.52742811   0.82293387]\n",
      " [  8.77515676   0.81303178]\n",
      " [ -5.65105819  -7.30706298]\n",
      " [ -7.75531127  -6.84964591]\n",
      " [ -8.64948908  -7.90260079]]\n",
      "[3 1 2 0 3 3 1 1 0 1 3 2 3 0 1 0 0 2 2 2]\n"
     ]
    }
   ],
   "source": [
    "from sklearn.datasets import make_blobs\n",
    "X, y = make_blobs(n_samples=20,centers=4)\n",
    "# X: The generated samples\n",
    "# y: The integer labels for cluster membership of each sample\n",
    "# centers: The number of centers to generate\n",
    "print(X)\n",
    "print(y)"
   ]
  },
  {
   "cell_type": "markdown",
   "metadata": {
    "id": "KtT-2_wwzQYG"
   },
   "source": [
    "VISUALIZE THE BLOBS"
   ]
  },
  {
   "cell_type": "code",
   "execution_count": null,
   "metadata": {
    "colab": {
     "base_uri": "https://localhost:8080/",
     "height": 282
    },
    "id": "akKidLdKzS_x",
    "outputId": "aa801d69-bc0d-4982-893c-38c5111ca16d"
   },
   "outputs": [
    {
     "data": {
      "text/plain": [
       "<matplotlib.collections.PathCollection at 0x7ff90afe1ad0>"
      ]
     },
     "execution_count": 15,
     "metadata": {},
     "output_type": "execute_result"
    },
    {
     "data": {
      "image/png": "[encoded data removed]",
      "text/plain": [
       "<Figure size 432x288 with 1 Axes>"
      ]
     },
     "metadata": {
      "needs_background": "light"
     },
     "output_type": "display_data"
    }
   ],
   "source": [
    "plt.scatter(X[:,0],X[:,1])"
   ]
  },
  {
   "cell_type": "markdown",
   "metadata": {
    "id": "RIMFkK_nzadM"
   },
   "source": [
    "VISUALIZE THE DATASET"
   ]
  },
  {
   "cell_type": "code",
   "execution_count": null,
   "metadata": {
    "id": "hXicxgvVzcvU"
   },
   "outputs": [],
   "source": [
    "linkage_method = 'average'\n",
    "#complete\n",
    "#single\n",
    "#average\n",
    "hac = AgglomerativeClustering(n_clusters = 4, linkage = linkage_method)"
   ]
  },
  {
   "cell_type": "markdown",
   "metadata": {
    "id": "68GuxHKn0JfI"
   },
   "source": [
    "FIT THE DATA"
   ]
  },
  {
   "cell_type": "code",
   "execution_count": null,
   "metadata": {
    "colab": {
     "base_uri": "https://localhost:8080/"
    },
    "id": "23NHd0pX0Kw5",
    "outputId": "bb7bf591-68fc-4036-fcbb-00e5ee0a5727"
   },
   "outputs": [
    {
     "data": {
      "text/plain": [
       "AgglomerativeClustering(linkage='average', n_clusters=4)"
      ]
     },
     "execution_count": 17,
     "metadata": {},
     "output_type": "execute_result"
    }
   ],
   "source": [
    "hac.fit(X,y)"
   ]
  },
  {
   "cell_type": "markdown",
   "metadata": {
    "id": "ww7OMifvzqpe"
   },
   "source": [
    "IDENTIFY THE CLUSTERS"
   ]
  },
  {
   "cell_type": "code",
   "execution_count": null,
   "metadata": {
    "colab": {
     "base_uri": "https://localhost:8080/",
     "height": 252
    },
    "id": "TJZUmqb_ZUVj",
    "outputId": "dcfa8136-1046-4e66-fe23-a293e0db2a12"
   },
   "outputs": [
    {
     "data": {
      "image/png": "[encoded data removed]",
      "text/plain": [
       "<Figure size 432x288 with 1 Axes>"
      ]
     },
     "metadata": {},
     "output_type": "display_data"
    }
   ],
   "source": [
    "# Create a figure of size 6 inches by 4 inches.\n",
    "plt.figure(figsize=(6,4))\n",
    "\n",
    "# These two lines of code are used to scale the data points down,\n",
    "# Or else the data points will be scattered very far apart.\n",
    "\n",
    "# Create a minimum and maximum range of X.\n",
    "x_min, x_max = np.min(X, axis=0), np.max(X, axis=0)\n",
    "\n",
    "# Get the average distance for X.\n",
    "X = (X - x_min) / (x_max - x_min)\n",
    "\n",
    "# This loop displays all of the datapoints.\n",
    "for i in range(X.shape[0]):\n",
    "    # Replace the data points with their respective cluster value\n",
    "    # (ex. 0) and is color coded with a colormap (plt.cm.spectral)\n",
    "    plt.text(X[i, 0], X[i, 1], str(y[i]),\n",
    "             color=plt.cm.nipy_spectral(hac.labels_[i] / 10.),\n",
    "             fontdict={'weight': 'bold', 'size': 9})\n",
    "\n",
    "# Remove the x ticks, y ticks, x and y axis\n",
    "plt.xticks([])\n",
    "plt.yticks([])\n",
    "#plt.axis('off')\n",
    "\n",
    "\n",
    "# Display the plot of the original data before clustering\n",
    "plt.scatter(X[:, 0], X[:, 1], marker='.')\n",
    "# Display the plot\n",
    "plt.show()"
   ]
  },
  {
   "cell_type": "markdown",
   "metadata": {
    "id": "fJpo3y7n0QJd"
   },
   "source": [
    "CALCULATE THE DISTANCE MATRIX"
   ]
  },
  {
   "cell_type": "code",
   "execution_count": null,
   "metadata": {
    "colab": {
     "base_uri": "https://localhost:8080/"
    },
    "id": "oXmeXty60Rr3",
    "outputId": "bdb93134-8a4d-4d11-8db6-f1c42eb93f4e"
   },
   "outputs": [
    {
     "data": {
      "text/plain": [
       "array([[0.        , 0.50825667, 0.27290158, 0.98255281, 0.03146479,\n",
       "        0.18142029, 0.47961312, 0.43212585, 1.02096912, 0.38863818,\n",
       "        0.07147358, 0.20197253, 0.234427  , 0.94094808, 0.50489729,\n",
       "        0.91324406, 0.92069212, 0.13453044, 0.24116058, 0.25876055],\n",
       "       [0.50825667, 0.        , 0.38791239, 1.00154054, 0.49446468,\n",
       "        0.61255802, 0.03570675, 0.08958523, 1.06474487, 0.12051624,\n",
       "        0.57216571, 0.39821566, 0.72555238, 0.96477979, 0.11106728,\n",
       "        0.96047223, 0.97189812, 0.37948814, 0.3004334 , 0.36562029],\n",
       "       [0.27290158, 0.38791239, 0.        , 1.16456655, 0.28584213,\n",
       "        0.26568389, 0.37567641, 0.353367  , 1.21343497, 0.28442253,\n",
       "        0.34074816, 0.07145392, 0.4019043 , 1.12342432, 0.44482521,\n",
       "        1.10358024, 1.11276619, 0.17892644, 0.12076415, 0.02983173],\n",
       "       [0.98255281, 1.00154054, 1.16456655, 0.        , 0.95217158,\n",
       "        1.15919869, 0.97351636, 0.93923151, 0.07226651, 0.98611572,\n",
       "        0.96580543, 1.10831333, 1.14555955, 0.04163741, 0.89197225,\n",
       "        0.07843993, 0.07769184, 0.99568981, 1.05119192, 1.13591487],\n",
       "       [0.03146479, 0.49446468, 0.28584213, 0.95217158, 0.        ,\n",
       "        0.21288402, 0.46464263, 0.4156465 , 0.99115229, 0.37605849,\n",
       "        0.07771666, 0.21438832, 0.26058763, 0.91055417, 0.48519049,\n",
       "        0.88321224, 0.89076325, 0.13101692, 0.24050023, 0.26895627],\n",
       "       [0.18142029, 0.61255802, 0.26568389, 1.15919869, 0.21288402,\n",
       "        0.        , 0.59060335, 0.55203131, 1.19496609, 0.49395685,\n",
       "        0.19644483, 0.22134482, 0.13912885, 1.11769097, 0.63623293,\n",
       "        1.08837488, 1.09534395, 0.24834689, 0.31279049, 0.27157387],\n",
       "       [0.47961312, 0.03570675, 0.37567641, 0.97351636, 0.46464263,\n",
       "        0.59060335, 0.        , 0.0542476 , 1.03596217, 0.09674104,\n",
       "        0.54222908, 0.38002718, 0.70019393, 0.93632399, 0.09030848,\n",
       "        0.9309951 , 0.94232355, 0.35310942, 0.28064103, 0.35169587],\n",
       "       [0.43212585, 0.08958523, 0.353367  , 0.93923151, 0.4156465 ,\n",
       "        0.55203131, 0.0542476 , 0.        , 1.00009722, 0.06996313,\n",
       "        0.49292644, 0.34849114, 0.6565854 , 0.9012431 , 0.09149334,\n",
       "        0.89387057, 0.904985  , 0.30943247, 0.24821238, 0.32715515],\n",
       "       [1.02096912, 1.06474487, 1.21343497, 0.07226651, 0.99115229,\n",
       "        1.19496609, 1.03596217, 1.00009722, 0.        , 1.04481868,\n",
       "        0.99987928, 1.1551872 , 1.17367089, 0.10097276, 0.9558848 ,\n",
       "        0.10986458, 0.10091649, 1.04184068, 1.1021031 , 1.18518769],\n",
       "       [0.38863818, 0.12051624, 0.28442253, 0.98611572, 0.37605849,\n",
       "        0.49395685, 0.09674104, 0.06996313, 1.04481868, 0.        ,\n",
       "        0.4537452 , 0.28398176, 0.60514194, 0.94724031, 0.16116144,\n",
       "        0.93718426, 0.94796678, 0.25900053, 0.18418984, 0.25887324],\n",
       "       [0.07147358, 0.57216571, 0.34074816, 0.96580543, 0.07771666,\n",
       "        0.19644483, 0.54222908, 0.49292644, 0.99987928, 0.4537452 ,\n",
       "        0.        , 0.27071878, 0.20199343, 0.92443153, 0.56085353,\n",
       "        0.89397894, 0.9006666 , 0.20463732, 0.31236224, 0.32834693],\n",
       "       [0.20197253, 0.39821566, 0.07145392, 1.10831333, 0.21438832,\n",
       "        0.22134482, 0.38002718, 0.34849114, 1.1551872 , 0.28398176,\n",
       "        0.27071878, 0.        , 0.35051605, 1.06695092, 0.43799512,\n",
       "        1.04546088, 1.05432785, 0.11389043, 0.10028177, 0.05853305],\n",
       "       [0.234427  , 0.72555238, 0.4019043 , 1.14555955, 0.26058763,\n",
       "        0.13912885, 0.70019393, 0.6565854 , 1.17367089, 0.60514194,\n",
       "        0.20199343, 0.35051605, 0.        , 1.10476384, 0.73456659,\n",
       "        1.07110845, 1.07673551, 0.3473213 , 0.43239539, 0.4047117 ],\n",
       "       [0.94094808, 0.96477979, 1.12342432, 0.04163741, 0.91055417,\n",
       "        1.11769097, 0.93632399, 0.9012431 , 0.10097276, 0.94724031,\n",
       "        0.92443153, 1.06695092, 1.10476384, 0.        , 0.85562808,\n",
       "        0.04665104, 0.05172433, 0.95425536, 1.01032787, 1.09482133],\n",
       "       [0.50489729, 0.11106728, 0.44482521, 0.89197225, 0.48519049,\n",
       "        0.63623293, 0.09030848, 0.09149334, 0.9558848 , 0.16116144,\n",
       "        0.56085353, 0.43799512, 0.73456659, 0.85562808, 0.        ,\n",
       "        0.8525171 , 0.86406837, 0.38991984, 0.33791078, 0.4184581 ],\n",
       "       [0.91324406, 0.96047223, 1.10358024, 0.07843993, 0.88321224,\n",
       "        1.08837488, 0.9309951 , 0.89387057, 0.10986458, 0.93718426,\n",
       "        0.89397894, 1.04546088, 1.07110845, 0.04665104, 0.8525171 ,\n",
       "        0.        , 0.01227876, 0.93218162, 0.9922853 , 1.07532448],\n",
       "       [0.92069212, 0.97189812, 1.11276619, 0.07769184, 0.89076325,\n",
       "        1.09534395, 0.94232355, 0.904985  , 0.10091649, 0.94796678,\n",
       "        0.9006666 , 1.05432785, 1.07673551, 0.05172433, 0.86406837,\n",
       "        0.01227876, 0.        , 0.94095126, 1.00182847, 1.08458211],\n",
       "       [0.13453044, 0.37948814, 0.17892644, 0.99568981, 0.13101692,\n",
       "        0.24834689, 0.35310942, 0.30943247, 1.04184068, 0.25900053,\n",
       "        0.20463732, 0.11389043, 0.3473213 , 0.95425536, 0.38991984,\n",
       "        0.93218162, 0.94095126, 0.        , 0.10968544, 0.15500966],\n",
       "       [0.24116058, 0.3004334 , 0.12076415, 1.05119192, 0.24050023,\n",
       "        0.31279049, 0.28064103, 0.24821238, 1.1021031 , 0.18418984,\n",
       "        0.31236224, 0.10028177, 0.43239539, 1.01032787, 0.33791078,\n",
       "        0.9922853 , 1.00182847, 0.10968544, 0.        , 0.09099166],\n",
       "       [0.25876055, 0.36562029, 0.02983173, 1.13591487, 0.26895627,\n",
       "        0.27157387, 0.35169587, 0.32715515, 1.18518769, 0.25887324,\n",
       "        0.32834693, 0.05853305, 0.4047117 , 1.09482133, 0.4184581 ,\n",
       "        1.07532448, 1.08458211, 0.15500966, 0.09099166, 0.        ]])"
      ]
     },
     "execution_count": 19,
     "metadata": {},
     "output_type": "execute_result"
    }
   ],
   "source": [
    "dist_matrix = distance_matrix(X,X)\n",
    "dist_matrix"
   ]
  },
  {
   "cell_type": "markdown",
   "metadata": {
    "id": "Uf137j_i0Yf9"
   },
   "source": [
    "### **QUESTION 1: What is the structure of this matrix? (explain)**"
   ]
  },
  {
   "cell_type": "markdown",
   "metadata": {
    "id": "zv_hM7f90eIy"
   },
   "source": [
    "The structure of this matrix consists on the distance between pairs of cases. We observe which are the most similar objects in the distance matrix. In this case are the objects with a value less than 1, or a distance less than 1."
   ]
  },
  {
   "cell_type": "markdown",
   "metadata": {
    "id": "3cNhKmPA0mDF"
   },
   "source": [
    "VISUALIZE AND DISCUSS THE DENDOGRAM"
   ]
  },
  {
   "cell_type": "code",
   "execution_count": null,
   "metadata": {
    "colab": {
     "base_uri": "https://localhost:8080/",
     "height": 323
    },
    "id": "AEFIjv1f0iJN",
    "outputId": "032e27e2-1416-4a7e-f4b5-b52aa1ad9110"
   },
   "outputs": [
    {
     "name": "stderr",
     "output_type": "stream",
     "text": [
      "/usr/local/lib/python3.7/dist-packages/ipykernel_launcher.py:1: ClusterWarning: scipy.cluster: The symmetric non-negative hollow observation matrix looks suspiciously like an uncondensed distance matrix\n",
      "  \"\"\"Entry point for launching an IPython kernel.\n"
     ]
    },
    {
     "data": {
      "image/png": "[encoded data removed]",
      "text/plain": [
       "<Figure size 432x288 with 1 Axes>"
      ]
     },
     "metadata": {
      "needs_background": "light"
     },
     "output_type": "display_data"
    }
   ],
   "source": [
    "Z = hierarchy.linkage(dist_matrix, method=linkage_method)\n",
    "dendro = hierarchy.dendrogram(Z)"
   ]
  },
  {
   "cell_type": "markdown",
   "metadata": {
    "id": "5GMQq31D05Ba"
   },
   "source": [
    "### **QUESTION 2: How many clusters can you identify in the dendrogram, is it easy to see?**\n"
   ]
  },
  {
   "cell_type": "markdown",
   "metadata": {
    "id": "nnm3vdd5E0Rr"
   },
   "source": [
    "The clusters identified in the dendogram are 4 which are easily identifiable since the amount of data we are working with are few, 20 exactly. In the data visualization section you define the number of clusters for the data you are working with."
   ]
  },
  {
   "cell_type": "markdown",
   "metadata": {
    "id": "0DCnM2R90-dS"
   },
   "source": [
    "### **QUESTION 3: Explain the organization of the clusters?**\n"
   ]
  },
  {
   "cell_type": "markdown",
   "metadata": {
    "id": "mp5-7gUSIL2J"
   },
   "source": [
    "The clusters have distances not so close to each other. That is to say, they are a little distant with respect to the other methods. They have approximately 5 levels that are easily distinguishable because we are working with few data and the heights of them can be easily evidenced. The groups with the smallest distances correspond to the last 3 from right to left as they have the smallest distances and heights."
   ]
  },
  {
   "cell_type": "markdown",
   "metadata": {
    "id": "cLT0SL9s1CZu"
   },
   "source": [
    "### **QUESTION 4: Use the complete, single, and average method, do you see any difference between them? Discuss your answer.**"
   ]
  },
  {
   "cell_type": "code",
   "execution_count": null,
   "metadata": {
    "colab": {
     "base_uri": "https://localhost:8080/",
     "height": 323
    },
    "id": "-AxGLPEC_Tvn",
    "outputId": "ee5d9c63-07d6-4655-a662-a5419baa4e8e"
   },
   "outputs": [
    {
     "name": "stderr",
     "output_type": "stream",
     "text": [
      "/usr/local/lib/python3.7/dist-packages/ipykernel_launcher.py:1: ClusterWarning: scipy.cluster: The symmetric non-negative hollow observation matrix looks suspiciously like an uncondensed distance matrix\n",
      "  \"\"\"Entry point for launching an IPython kernel.\n"
     ]
    },
    {
     "data": {
      "image/png": "[encoded data removed]",
      "text/plain": [
       "<Figure size 432x288 with 1 Axes>"
      ]
     },
     "metadata": {
      "needs_background": "light"
     },
     "output_type": "display_data"
    }
   ],
   "source": [
    "Z = hierarchy.linkage(dist_matrix, method='complete')\n",
    "dendro = hierarchy.dendrogram(Z)"
   ]
  },
  {
   "cell_type": "markdown",
   "metadata": {
    "id": "ZwMvTn-EEgoZ"
   },
   "source": [
    "For the \"complete\" dendogram we can see that there are approximately 5 levels with considerable distances between them. The distances are at least visible to the eye. The distances are not as close as in the other methods, in this case the data are farther apart."
   ]
  },
  {
   "cell_type": "code",
   "execution_count": null,
   "metadata": {
    "colab": {
     "base_uri": "https://localhost:8080/",
     "height": 323
    },
    "id": "yI_g4JLe_y6s",
    "outputId": "ab3f642a-d525-41cc-addc-b96f3335bd68"
   },
   "outputs": [
    {
     "name": "stderr",
     "output_type": "stream",
     "text": [
      "/usr/local/lib/python3.7/dist-packages/ipykernel_launcher.py:1: ClusterWarning: scipy.cluster: The symmetric non-negative hollow observation matrix looks suspiciously like an uncondensed distance matrix\n",
      "  \"\"\"Entry point for launching an IPython kernel.\n"
     ]
    },
    {
     "data": {
      "image/png": "[encoded data removed]",
      "text/plain": [
       "<Figure size 432x288 with 1 Axes>"
      ]
     },
     "metadata": {
      "needs_background": "light"
     },
     "output_type": "display_data"
    }
   ],
   "source": [
    "Z = hierarchy.linkage(dist_matrix, method='average')\n",
    "dendro = hierarchy.dendrogram(Z)"
   ]
  },
  {
   "cell_type": "markdown",
   "metadata": {
    "id": "HwY_Ae6XGsJ8"
   },
   "source": [
    "For the \"average\" dendogram one can notice 5 levels with considerable distances for the last cluster on the right. For the clusters from right to left without taking into account the last one, smaller and closer distances between them can be denoted."
   ]
  },
  {
   "cell_type": "code",
   "execution_count": null,
   "metadata": {
    "colab": {
     "base_uri": "https://localhost:8080/",
     "height": 323
    },
    "id": "qQASHUbG_em3",
    "outputId": "924911aa-4691-46dd-97a5-634b010ff3e7"
   },
   "outputs": [
    {
     "name": "stderr",
     "output_type": "stream",
     "text": [
      "/usr/local/lib/python3.7/dist-packages/ipykernel_launcher.py:1: ClusterWarning: scipy.cluster: The symmetric non-negative hollow observation matrix looks suspiciously like an uncondensed distance matrix\n",
      "  \"\"\"Entry point for launching an IPython kernel.\n"
     ]
    },
    {
     "data": {
      "image/png": "[encoded data removed]",
      "text/plain": [
       "<Figure size 432x288 with 1 Axes>"
      ]
     },
     "metadata": {
      "needs_background": "light"
     },
     "output_type": "display_data"
    }
   ],
   "source": [
    "Z = hierarchy.linkage(dist_matrix, method='single')\n",
    "dendro = hierarchy.dendrogram(Z)"
   ]
  },
  {
   "cell_type": "markdown",
   "metadata": {
    "id": "VcOTlUZcHZpm"
   },
   "source": [
    "For the \"single\" dendogram, approximately 8 levels can be denoted where the last ones are the ones that are closest to each other. Likewise the clusters have close distances between them, almost all of them have approximate close distances between them."
   ]
  }
 ],
 "metadata": {
  "colab": {
   "provenance": []
  },
  "kernelspec": {
   "display_name": "Python 3",
   "name": "python3"
  },
  "language_info": {
   "name": "python"
  }
 },
 "nbformat": 4,
 "nbformat_minor": 0
}
